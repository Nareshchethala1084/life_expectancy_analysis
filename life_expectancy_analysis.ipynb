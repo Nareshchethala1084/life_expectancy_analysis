{
 "cells": [
  {
   "cell_type": "code",
   "execution_count": 89,
   "id": "d74fa201-0711-4170-8a5a-a28ef721e814",
   "metadata": {},
   "outputs": [],
   "source": [
    "import pandas as pd"
   ]
  },
  {
   "cell_type": "code",
   "execution_count": null,
   "id": "11023508-e97e-410a-b9bb-9484e597438e",
   "metadata": {},
   "outputs": [],
   "source": [
    "path_cle = input('Please input the file path to country life Expectancy file:')\n",
    "dfcle = pd.read_csv(path_cle)\n",
    "#change the path as per you local repository"
   ]
  },
  {
   "cell_type": "code",
   "execution_count": null,
   "id": "2ebbb1e0-9ec8-44e8-a2fa-bfcd5ca370ab",
   "metadata": {},
   "outputs": [],
   "source": [
    "display(dfcle)"
   ]
  },
  {
   "cell_type": "code",
   "execution_count": null,
   "id": "904a4003-4509-42d6-8f41-e6bf1f3b0f33",
   "metadata": {},
   "outputs": [],
   "source": [
    "dfcle = dfcle.drop('continent', axis=1)\n",
    "display(dfcle)"
   ]
  },
  {
   "cell_type": "code",
   "execution_count": null,
   "id": "9afdad12-61b5-4075-ab0a-2cee23de00a3",
   "metadata": {},
   "outputs": [],
   "source": [
    "path_cc = input('Please input the file path to CountryContinent file:')\n",
    "dfcc = pd.read_csv(path_cc)\n",
    "#change the path as per your local repository\n",
    "display(dfcc)"
   ]
  },
  {
   "cell_type": "code",
   "execution_count": null,
   "id": "accf9e28-49e6-430f-bdb5-50b3524c49b1",
   "metadata": {},
   "outputs": [],
   "source": [
    "import pandas as pd\n",
    "\n",
    "# Get dataframe names as input from the user\n",
    "df1_name = input('Please enter the dataframe name of Country Life Expectancy:')\n",
    "df2_name = input('Please enter the dataframe name of Country Continent:')\n",
    "\n",
    "# Load the DataFrames based on user input\n",
    "try:\n",
    "    df1 = globals()[df1_name]  # Assuming df1_name is the variable name of the DataFrame\n",
    "    df2 = globals()[df2_name]  # Assuming df2_name is the variable name of the DataFrame\n",
    "except KeyError:\n",
    "    print(\"Error: One or both of the dataframe names entered is incorrect.\")\n",
    "    exit()\n",
    "\n",
    "# Merge the dataframes\n",
    "merge_file = pd.merge(df1, df2)\n",
    "\n",
    "# Get user input for the merged dataframe name\n",
    "merged_name = input('Please enter the name for the merged dataframe: ')\n",
    "\n",
    "# Assign the merged dataframe to a variable with the user-provided name\n",
    "globals()[merged_name] = merge_file  # Creates a variable with the user-provided name\n",
    "\n",
    "# Display the merged dataframe\n",
    "print(globals()[merged_name])\n"
   ]
  },
  {
   "cell_type": "code",
   "execution_count": null,
   "id": "bab5de4b-09d5-428a-925c-dbab10740518",
   "metadata": {},
   "outputs": [],
   "source": [
    "# Strip leading/trailing whitespace and standardize the case\n",
    "df_merged['continent '] = df_merged['continent '].str.strip().str.title()\n",
    "df_merged"
   ]
  },
  {
   "cell_type": "code",
   "execution_count": null,
   "id": "769b6cf8-9fc0-4802-b70f-c74d015158a6",
   "metadata": {},
   "outputs": [],
   "source": [
    "df_merged.rename(columns={'continent ': 'continent'}, inplace=True)"
   ]
  },
  {
   "cell_type": "code",
   "execution_count": null,
   "id": "1fe7748b-be23-4ffc-99bc-1a2260e33dbc",
   "metadata": {},
   "outputs": [],
   "source": [
    "# Print all column names in the DataFrame\n",
    "print(df_merged.columns)"
   ]
  },
  {
   "cell_type": "code",
   "execution_count": null,
   "id": "29c9e3dd-d0c9-44e6-91f3-55fb288c9067",
   "metadata": {},
   "outputs": [],
   "source": [
    "#optional, use this only if you want to save the merged dataframe as csv\n",
    "#if you want to run it seperately then replace 'globals()[merged_name]' with name of your dataframe\n",
    "#globals()[merged_name].to_csv('/Users/Username/path/to/your_dfmerge.csv')\n",
    "#Please change the loaction path and also file name as per your requirements"
   ]
  },
  {
   "cell_type": "markdown",
   "id": "2d43e637-2286-49d5-b50e-39c443112d83",
   "metadata": {},
   "source": [
    "Now in terminal change the directory to the dfmerged file and run the following code to directly open it in excel\n",
    "open -a 'Microsoft Excel' dfmerged.csv"
   ]
  },
  {
   "cell_type": "code",
   "execution_count": null,
   "id": "5c71b05f-926e-4624-9ccb-c9e2720386ef",
   "metadata": {},
   "outputs": [],
   "source": [
    "#in the place of df_merged use the file name you have used\n",
    "df_merged.describe()"
   ]
  },
  {
   "cell_type": "code",
   "execution_count": null,
   "id": "302be843-ee2b-4f26-bd2d-3018cd988c90",
   "metadata": {},
   "outputs": [],
   "source": [
    "# Drop the second occurrence of the 'continent' column\n",
    "#df_merged = df_merged.drop(df_merged.columns[df_merged.columns.get_loc('continent') + 1], axis=1)\n",
    "\n",
    "# Alternatively, if you specifically know the order of columns and just need to drop the last one\n",
    "# df = df.loc[:,~df.columns.duplicated(keep='first')]\n",
    "\n",
    "#print(df_merged.head())\n"
   ]
  },
  {
   "cell_type": "code",
   "execution_count": null,
   "id": "287c608b-3b86-42e4-8782-32ba005a8fc9",
   "metadata": {},
   "outputs": [],
   "source": [
    "import matplotlib.pyplot as plt\n",
    "\n",
    "max_population = df_merged.groupby('country')['year'].idxmax()\n",
    "\n",
    "df_max = df_merged.loc[max_population]\n",
    "\n",
    "print(df_max)"
   ]
  },
  {
   "cell_type": "code",
   "execution_count": null,
   "id": "9a54bcbb-4d92-4ecd-9a1e-975cba78ee5e",
   "metadata": {},
   "outputs": [],
   "source": [
    "# Sorting and selecting the top 20\n",
    "top_20 = df_max.sort_values(by='pop', ascending=False).head(20)\n",
    "print(top_20)"
   ]
  },
  {
   "cell_type": "code",
   "execution_count": null,
   "id": "48691763-b752-49d5-b756-425a0dde70b0",
   "metadata": {},
   "outputs": [],
   "source": [
    "top_20_lle = df_max.sort_values(by='lifeExp', ascending=True).head(20)\n",
    "print(top_20)"
   ]
  },
  {
   "cell_type": "code",
   "execution_count": null,
   "id": "973bad0e-dbc0-4406-93aa-565828e2bcce",
   "metadata": {},
   "outputs": [],
   "source": [
    "top_20_lle.set_index('country')['lifeExp'].plot(kind = 'bar', color = 'red')\n",
    "plt.title('Top 20 Countries in lowest lifeExp')\n",
    "plt.xlabel('Country')\n",
    "plt.ylabel('Life Expectancy')\n",
    "plt.xticks(rotation=90)\n",
    "plt.show()"
   ]
  },
  {
   "cell_type": "code",
   "execution_count": null,
   "id": "6116cdd7-9a07-4dc0-8938-18f136e43865",
   "metadata": {},
   "outputs": [],
   "source": [
    "top_20_hle = df_max.sort_values(by='lifeExp', ascending = True).head(20)\n",
    "print(top_20)"
   ]
  },
  {
   "cell_type": "code",
   "execution_count": null,
   "id": "00a4784f-a6a4-49d5-82c0-e19f9332360f",
   "metadata": {},
   "outputs": [],
   "source": [
    "top_20.set_index('country')['pop'].plot(kind='bar', color='skyblue')\n",
    "plt.title('Latest Year Population by Country')\n",
    "plt.xlabel('Country')\n",
    "plt.ylabel('Population')\n",
    "plt.xticks(rotation=90)  # Rotates country names for better readability\n",
    "plt.show()"
   ]
  },
  {
   "cell_type": "code",
   "execution_count": null,
   "id": "e3c49129-7317-4536-bd7f-e70cb4d41a20",
   "metadata": {},
   "outputs": [],
   "source": [
    "import pandas as pd\n",
    "import matplotlib.pyplot as plt\n",
    "import numpy as np\n",
    "\n",
    "# Plotting the scatter plot\n",
    "plt.figure(figsize=(10, 6))\n",
    "plt.scatter(top_20['pop'], top_20['lifeExp'], color='blue', alpha=0.5)\n",
    "\n",
    "# Calculating the Correlation using linear regression y = mx + b\n",
    "x = top_20['pop']\n",
    "y = top_20['lifeExp']\n",
    "m, b = np.polyfit(x, y, 1)  # m = slope, b = intercept\n",
    "\n",
    "# Adding the trend line to the plot\n",
    "plt.plot(x, m*x + b, color='red', label='Trend Line')\n",
    "\n",
    "# adding title, labels and legend\n",
    "plt.title('Population vs Life Expectancy')\n",
    "plt.xlabel('Population')\n",
    "plt.ylabel('Life Expectancy')\n",
    "plt.grid(True)\n",
    "plt.legend()\n",
    "\n",
    "# Showing the plot\n",
    "plt.show()\n"
   ]
  },
  {
   "cell_type": "code",
   "execution_count": null,
   "id": "25b8e0fc-4726-435b-932a-e468ab21064d",
   "metadata": {},
   "outputs": [],
   "source": [
    "import matplotlib.pyplot as plt\n",
    "\n",
    "# Filtering for the latest year data for each country\n",
    "idx_year = df_merged.groupby('country')['year'].idxmax()\n",
    "latest_data = df_merged.loc[idx_year]\n",
    "\n",
    "# Aggregating total population by continent\n",
    "continent_population = latest_data.groupby('continent')['pop'].sum()\n",
    "print(continent_population)"
   ]
  },
  {
   "cell_type": "code",
   "execution_count": null,
   "id": "7a9ea8e6-97e5-4cfd-a324-1af4d4a45395",
   "metadata": {},
   "outputs": [],
   "source": [
    "df_merged['continent'].describe()"
   ]
  },
  {
   "cell_type": "code",
   "execution_count": null,
   "id": "a4ab3d1b-640f-407e-869d-769da64d1c0b",
   "metadata": {},
   "outputs": [],
   "source": [
    "# Plotting the data\n",
    "plt.figure(figsize=(10, 6))\n",
    "continent_population.plot(kind='bar', color='skyblue')\n",
    "plt.title('Total Population by Continent in the Latest Year')\n",
    "plt.xlabel('Continent')\n",
    "plt.ylabel('Total Population')\n",
    "plt.xticks(rotation=0)  # Keep the continent names horizontal for readability\n",
    "plt.show() "
   ]
  },
  {
   "cell_type": "code",
   "execution_count": null,
   "id": "a5b168f1-0202-4463-8354-94e76e860d44",
   "metadata": {},
   "outputs": [],
   "source": [
    "# Aggregating total population by continent\n",
    "continent_lifeexp = latest_data.groupby('continent')['lifeExp'].mean()\n",
    "print(continent_population)"
   ]
  },
  {
   "cell_type": "code",
   "execution_count": null,
   "id": "7174917f-82c6-4cd1-bb5e-1079b8c92fca",
   "metadata": {},
   "outputs": [],
   "source": [
    "plt.figure(figsize=(10, 6))\n",
    "continent_lifeexp.plot(kind='bar', color='skyblue')\n",
    "plt.title('Average Life Expectancy of Each Continent')\n",
    "plt.xlabel('Continent')\n",
    "plt.ylabel('Average Life Expectancy')\n",
    "plt.xticks(rotation=0)\n",
    "plt.show() "
   ]
  },
  {
   "cell_type": "code",
   "execution_count": null,
   "id": "951fb74c-e9ff-43d5-8c04-b261602826fd",
   "metadata": {},
   "outputs": [],
   "source": [
    "#Mean of the lifeExp over the years\n",
    "lifeexp_avg = df_merged.groupby('year')['lifeExp'].mean()\n",
    "print(lifeexp_avg)"
   ]
  },
  {
   "cell_type": "code",
   "execution_count": null,
   "id": "780478e1-89c3-4d7e-a70c-6e1bd1ee63fb",
   "metadata": {},
   "outputs": [],
   "source": [
    "#plotting the average of the lifeExpectancy over the years\n",
    "plt.figure(figsize=(10, 6))\n",
    "lifeexp_avg.plot()\n",
    "plt.title('Average Life Expectancy Over Years')\n",
    "plt.xlabel('Year')\n",
    "plt.ylabel('Average Life Expectancy')\n",
    "plt.xticks(lifeexp_avg.index, rotation=45)\n",
    "plt.grid(True)\n",
    "plt.show()"
   ]
  },
  {
   "cell_type": "code",
   "execution_count": null,
   "id": "0a68335c-fb67-4195-821d-3db259420765",
   "metadata": {},
   "outputs": [],
   "source": [
    "import matplotlib.pyplot as plt\n",
    "\n",
    "fig, ax1 = plt.subplots(figsize=(10, 6))\n",
    "\n",
    "# First plot - life expectancy over years as a line plot\n",
    "lifeexp_avg.plot(ax=ax1, color='red', marker='o', label='Avg Life Exp Over Years')\n",
    "ax1.set_xlabel('Year')\n",
    "ax1.set_ylabel('Average Life Expectancy', color='red')\n",
    "ax1.tick_params(axis='y', labelcolor='red')\n",
    "ax1.set_xticks(lifeexp_avg.index)\n",
    "ax1.set_xticklabels(lifeexp_avg.index, rotation=45)\n",
    "ax1.grid(True)\n",
    "\n",
    "# Create a second x-axis for the continents\n",
    "ax2 = ax1.twiny()  # Create a second x-axis\n",
    "ax2.set_xlabel('Continent')\n",
    "continent_lifeexp.plot(kind='bar', color='skyblue', ax=ax2, position=0, label='Avg Life Exp by Continent')\n",
    "ax2.set_ylabel('Average Life Expectancy')\n",
    "ax2.set_xticks(range(len(continent_lifeexp.index)))\n",
    "ax2.set_xticklabels(continent_lifeexp.index, rotation=0)\n",
    "\n",
    "# Adding legends\n",
    "ax1.legend(loc='upper left')\n",
    "ax2.legend(loc='upper right')\n",
    "\n",
    "plt.title('Average Life Expectancy Over Years and by Continent')\n",
    "plt.show()\n"
   ]
  },
  {
   "cell_type": "code",
   "execution_count": null,
   "id": "46447fbe-1208-4d16-a3fe-4c06761fa737",
   "metadata": {},
   "outputs": [],
   "source": []
  }
 ],
 "metadata": {
  "kernelspec": {
   "display_name": "Python 3 (ipykernel)",
   "language": "python",
   "name": "python3"
  },
  "language_info": {
   "codemirror_mode": {
    "name": "ipython",
    "version": 3
   },
   "file_extension": ".py",
   "mimetype": "text/x-python",
   "name": "python",
   "nbconvert_exporter": "python",
   "pygments_lexer": "ipython3",
   "version": "3.12.3"
  }
 },
 "nbformat": 4,
 "nbformat_minor": 5
}
